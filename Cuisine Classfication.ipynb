{
 "cells": [
  {
   "cell_type": "markdown",
   "metadata": {},
   "source": [
    "# Cuisine Classification based on Recipe Ingredients"
   ]
  },
  {
   "cell_type": "markdown",
   "metadata": {},
   "source": [
    "## Table of Contents\n",
    "* Preprocessing\n",
    "* Idea 1: Bag of Words + Logistic Regression\n",
    "* Feature Selection\n",
    "  + Variance Threshold (unhelpful)\n",
    "  + Mutual Information (unhelpful)\n",
    "  + Chi2 (unhelpful)\n",
    "  + Lasso Logistic Regression (helpful)\n",
    "* Analyze the Weakness of Bag of Words + Logistic Regression\n",
    "* Idea 2: Random Forest with Bag of Words and Logistic Regression Results as Features\n",
    "* Idea 3: Random Forest for Confused Cuisine Pairs\n",
    "  + French vs Italian\n",
    "  + Modify Logistic Regression Predictions with French vs Italian Classifier\n",
    "  + Random Forest for each Confused Cuisine Pair\n",
    "  \n",
    "### Test Scores (Accuracy)\n",
    "* Bag of Words + Random Forest: 0.679\n",
    "* Idea 1 Bag of Words + Logistic Regression: 0.777\n",
    "* Idea 2: 0.789\n",
    "* Idea 3: 0.782"
   ]
  },
  {
   "cell_type": "markdown",
   "metadata": {},
   "source": [
    " "
   ]
  },
  {
   "cell_type": "markdown",
   "metadata": {},
   "source": [
    "## Preprocessing"
   ]
  },
  {
   "cell_type": "code",
   "execution_count": 1,
   "metadata": {
    "collapsed": false
   },
   "outputs": [
    {
     "name": "stderr",
     "output_type": "stream",
     "text": [
      "/Users/ChingYunH/anaconda/lib/python2.7/site-packages/sklearn/cross_validation.py:44: DeprecationWarning: This module was deprecated in version 0.18 in favor of the model_selection module into which all the refactored classes and functions are moved. Also note that the interface of the new CV iterators are different from that of this module. This module will be removed in 0.20.\n",
      "  \"This module will be removed in 0.20.\", DeprecationWarning)\n"
     ]
    }
   ],
   "source": [
    "import pandas as pd\n",
    "import numpy as np\n",
    "import seaborn as sns\n",
    "import matplotlib.pyplot as plt\n",
    "import networkx as nx\n",
    "import matplotlib\n",
    "%matplotlib inline\n",
    "from sklearn.cross_validation import train_test_split\n",
    "from sklearn.feature_extraction.text import CountVectorizer, TfidfTransformer\n",
    "from sklearn.preprocessing import LabelEncoder\n",
    "from sklearn.linear_model import LogisticRegression\n",
    "from sklearn.feature_selection import VarianceThreshold, chi2, mutual_info_classif, SelectPercentile, SelectFromModel\n",
    "from sklearn.ensemble import RandomForestClassifier\n",
    "from sklearn.decomposition import SparsePCA\n",
    "from scipy.sparse import hstack\n",
    "from scipy.sparse.csr import csr_matrix"
   ]
  },
  {
   "cell_type": "code",
   "execution_count": 2,
   "metadata": {
    "collapsed": true
   },
   "outputs": [],
   "source": [
    "traindata = pd.io.json.read_json('train.json')\n",
    "testdata = pd.io.json.read_json('test.json')"
   ]
  },
  {
   "cell_type": "code",
   "execution_count": 3,
   "metadata": {
    "collapsed": true
   },
   "outputs": [],
   "source": [
    "testdata = pd.io.json.read_json('test.json')"
   ]
  },
  {
   "cell_type": "code",
   "execution_count": 4,
   "metadata": {
    "collapsed": false
   },
   "outputs": [
    {
     "data": {
      "text/plain": [
       "cuisine        32897\n",
       "id             32897\n",
       "ingredients    32897\n",
       "dtype: int64"
      ]
     },
     "execution_count": 4,
     "metadata": {},
     "output_type": "execute_result"
    }
   ],
   "source": [
    "traindata.count()"
   ]
  },
  {
   "cell_type": "markdown",
   "metadata": {},
   "source": [
    "Split data into training set and validation set."
   ]
  },
  {
   "cell_type": "code",
   "execution_count": 5,
   "metadata": {
    "collapsed": false
   },
   "outputs": [],
   "source": [
    "train, cv = train_test_split(traindata, train_size=0.8)"
   ]
  },
  {
   "cell_type": "code",
   "execution_count": 6,
   "metadata": {
    "collapsed": false
   },
   "outputs": [
    {
     "data": {
      "text/plain": [
       "cuisine\n",
       "italian         5170\n",
       "mexican         4240\n",
       "southern_us     2839\n",
       "indian          2013\n",
       "chinese         1813\n",
       "french          1791\n",
       "thai            1014\n",
       "cajun_creole     994\n",
       "japanese         952\n",
       "greek            763\n",
       "spanish          648\n",
       "british          550\n",
       "vietnamese       545\n",
       "moroccan         542\n",
       "korean           516\n",
       "filipino         501\n",
       "irish            458\n",
       "jamaican         346\n",
       "russian          324\n",
       "brazilian        298\n",
       "Name: id, dtype: int64"
      ]
     },
     "execution_count": 6,
     "metadata": {},
     "output_type": "execute_result"
    }
   ],
   "source": [
    "train.groupby('cuisine').count()['id'].sort_values(ascending=False)"
   ]
  },
  {
   "cell_type": "markdown",
   "metadata": {},
   "source": [
    "# Idea 1: Simple Bag of Words + Logistic Regression"
   ]
  },
  {
   "cell_type": "code",
   "execution_count": 7,
   "metadata": {
    "collapsed": false
   },
   "outputs": [],
   "source": [
    "vectorizer = CountVectorizer(preprocessor=lambda x: ','.join(x).lower())\n",
    "features = vectorizer.fit_transform(train.ingredients)\n",
    "feature_names = vectorizer.get_feature_names()\n",
    "cv_features = vectorizer.transform(cv.ingredients)\n",
    "test_features = vectorizer.transform(testdata.ingredients)"
   ]
  },
  {
   "cell_type": "code",
   "execution_count": 8,
   "metadata": {
    "collapsed": false
   },
   "outputs": [],
   "source": [
    "label_encoder = LabelEncoder()\n",
    "label_encoder.fit(train.cuisine)\n",
    "labels = label_encoder.transform(train.cuisine)\n",
    "cv_labels = label_encoder.transform(cv.cuisine)"
   ]
  },
  {
   "cell_type": "code",
   "execution_count": 9,
   "metadata": {
    "collapsed": false
   },
   "outputs": [
    {
     "data": {
      "text/plain": [
       "LogisticRegression(C=1.0, class_weight=None, dual=False, fit_intercept=True,\n",
       "          intercept_scaling=1, max_iter=100, multi_class='ovr', n_jobs=1,\n",
       "          penalty='l2', random_state=None, solver='liblinear', tol=0.0001,\n",
       "          verbose=0, warm_start=False)"
      ]
     },
     "execution_count": 9,
     "metadata": {},
     "output_type": "execute_result"
    }
   ],
   "source": [
    "lr = LogisticRegression()\n",
    "lr.fit(X=features, y=labels)"
   ]
  },
  {
   "cell_type": "code",
   "execution_count": 10,
   "metadata": {
    "collapsed": false
   },
   "outputs": [
    {
     "data": {
      "text/plain": [
       "0.7735562310030395"
      ]
     },
     "execution_count": 10,
     "metadata": {},
     "output_type": "execute_result"
    }
   ],
   "source": [
    "lr.score(X=cv_features, y=cv_labels)"
   ]
  },
  {
   "cell_type": "code",
   "execution_count": 11,
   "metadata": {
    "collapsed": true
   },
   "outputs": [],
   "source": [
    "testdata['cuisine'] = label_encoder.inverse_transform(lr.predict(X=test_features))\n",
    "testdata[['id','cuisine']].set_index('id').to_csv('submission_logistic_bag.csv')"
   ]
  },
  {
   "cell_type": "markdown",
   "metadata": {},
   "source": [
    "# Feature Selection"
   ]
  },
  {
   "cell_type": "markdown",
   "metadata": {},
   "source": [
    "## Variance Threshold (unhelpful)"
   ]
  },
  {
   "cell_type": "code",
   "execution_count": 12,
   "metadata": {
    "collapsed": false
   },
   "outputs": [],
   "source": [
    "threshold_p = [0.0, 0.001, 0.005, 0.01, 0.02, 0.03, 0.04, 0.05]\n",
    "score = {}\n",
    "for p in threshold_p:\n",
    "    selvar = VarianceThreshold(threshold=(p * (1 - p)))\n",
    "    features_selvar = selvar.fit_transform(features)\n",
    "    cv_features_selvar = selvar.transform(cv_features)\n",
    "    lr = LogisticRegression()\n",
    "    lr.fit(X=features_selvar, y=labels)\n",
    "    score[p] = lr.score(X=cv_features_selvar, y=cv_labels)"
   ]
  },
  {
   "cell_type": "code",
   "execution_count": 13,
   "metadata": {
    "collapsed": false
   },
   "outputs": [
    {
     "data": {
      "image/png": "[encoded data removed]",
      "text/plain": [
       "<matplotlib.figure.Figure at 0x1155f2c50>"
      ]
     },
     "metadata": {},
     "output_type": "display_data"
    }
   ],
   "source": [
    "sns.pointplot(x=threshold_p, y=[score[p] for p in threshold_p])\n",
    "plt.ylabel('score')\n",
    "plt.xlabel('probability threshold')\n",
    "plt.show()"
   ]
  },
  {
   "cell_type": "markdown",
   "metadata": {},
   "source": [
    "Filtering by variance doesn't help. Maybe it's because some rare ingredients are unique to some cuisines."
   ]
  },
  {
   "cell_type": "markdown",
   "metadata": {},
   "source": [
    "## Mutual Information (unhelpful)"
   ]
  },
  {
   "cell_type": "code",
   "execution_count": 14,
   "metadata": {
    "collapsed": false
   },
   "outputs": [],
   "source": [
    "threshold_p = [10, 25, 50, 75, 90, 95]\n",
    "score = {}\n",
    "for p in threshold_p:\n",
    "    mutualinfo = SelectPercentile(score_func=mutual_info_classif, percentile=p)\n",
    "    features_mi = mutualinfo.fit_transform(features, labels)\n",
    "    cv_features_mi = mutualinfo.transform(cv_features)\n",
    "    lr = LogisticRegression()\n",
    "    lr.fit(X=features_mi, y=labels)\n",
    "    score[p] = lr.score(X=cv_features_mi, y=cv_labels)"
   ]
  },
  {
   "cell_type": "code",
   "execution_count": 15,
   "metadata": {
    "collapsed": false,
    "scrolled": true
   },
   "outputs": [
    {
     "data": {
      "image/png": "[encoded data removed]",
      "text/plain": [
       "<matplotlib.figure.Figure at 0x114071910>"
      ]
     },
     "metadata": {},
     "output_type": "display_data"
    }
   ],
   "source": [
    "sns.pointplot(x=threshold_p, y=[score[p] for p in threshold_p])\n",
    "plt.ylabel('score')\n",
    "plt.xlabel('percentile selected')\n",
    "plt.show()"
   ]
  },
  {
   "cell_type": "markdown",
   "metadata": {},
   "source": [
    "Filtering by mutual information doesn't help either. "
   ]
  },
  {
   "cell_type": "markdown",
   "metadata": {},
   "source": [
    "## Chi2 Feature Selection (unhelpful)"
   ]
  },
  {
   "cell_type": "code",
   "execution_count": 16,
   "metadata": {
    "collapsed": false
   },
   "outputs": [],
   "source": [
    "threshold_p = [10, 25, 50, 75, 90, 95]\n",
    "score = {}\n",
    "for p in threshold_p:\n",
    "    selector = SelectPercentile(score_func=chi2, percentile=p)\n",
    "    features_ = selector.fit_transform(features, labels)\n",
    "    cv_features_ = selector.transform(cv_features)\n",
    "    lr = LogisticRegression()\n",
    "    lr.fit(X=features_, y=labels)\n",
    "    score[p] = lr.score(X=cv_features_, y=cv_labels)"
   ]
  },
  {
   "cell_type": "code",
   "execution_count": 17,
   "metadata": {
    "collapsed": false,
    "scrolled": false
   },
   "outputs": [
    {
     "data": {
      "image/png": "[encoded data removed]",
      "text/plain": [
       "<matplotlib.figure.Figure at 0x103dceed0>"
      ]
     },
     "metadata": {},
     "output_type": "display_data"
    }
   ],
   "source": [
    "sns.pointplot(x=threshold_p, y=[score[p] for p in threshold_p])\n",
    "plt.ylabel('score')\n",
    "plt.xlabel('percentile selected')\n",
    "plt.show()"
   ]
  },
  {
   "cell_type": "markdown",
   "metadata": {},
   "source": [
    "Filtering by chi2 doesn't help either. "
   ]
  },
  {
   "cell_type": "markdown",
   "metadata": {},
   "source": [
    "## Lasso Logistic Regression Feature Selection (helpful)"
   ]
  },
  {
   "cell_type": "code",
   "execution_count": 18,
   "metadata": {
    "collapsed": true
   },
   "outputs": [],
   "source": [
    "lr_lasso = LogisticRegression(penalty='l1').fit(X=features, y=labels)"
   ]
  },
  {
   "cell_type": "code",
   "execution_count": 19,
   "metadata": {
    "collapsed": false
   },
   "outputs": [
    {
     "data": {
      "image/png": "[encoded data removed]",
      "text/plain": [
       "<matplotlib.figure.Figure at 0x1137305d0>"
      ]
     },
     "metadata": {},
     "output_type": "display_data"
    }
   ],
   "source": [
    "tmp = np.arange(50,100)\n",
    "plt.plot(tmp, [np.percentile(abs(lr_lasso.coef_), q=x) for x in tmp])\n",
    "plt.xlabel('Percentile')\n",
    "plt.ylabel('Median absolute coefficient at x-percentile')\n",
    "plt.show()"
   ]
  },
  {
   "cell_type": "code",
   "execution_count": 20,
   "metadata": {
    "collapsed": false
   },
   "outputs": [
    {
     "data": {
      "text/plain": [
       "0.77234042553191484"
      ]
     },
     "execution_count": 20,
     "metadata": {},
     "output_type": "execute_result"
    }
   ],
   "source": [
    "lr_lasso = LogisticRegression(penalty='l1').fit(X=features, y=labels)\n",
    "selector = SelectFromModel(lr_lasso, prefit=True, threshold=1e-5)\n",
    "features_ = selector.transform(features)\n",
    "cv_features_ = selector.transform(cv_features)\n",
    "lr = LogisticRegression()\n",
    "lr.fit(X=features_, y=labels)\n",
    "lr.score(X=cv_features_, y=cv_labels)"
   ]
  },
  {
   "cell_type": "code",
   "execution_count": 21,
   "metadata": {
    "collapsed": false
   },
   "outputs": [
    {
     "data": {
      "text/plain": [
       "0.5136298421807748"
      ]
     },
     "execution_count": 21,
     "metadata": {},
     "output_type": "execute_result"
    }
   ],
   "source": [
    "1.0 * features_.shape[1] / features.shape[1]"
   ]
  },
  {
   "cell_type": "code",
   "execution_count": 22,
   "metadata": {
    "collapsed": false
   },
   "outputs": [],
   "source": [
    "score = {}\n",
    "for thres in np.exp(np.arange(-5,1)):\n",
    "    lr_lasso = LogisticRegression(penalty='l1').fit(X=features, y=labels)\n",
    "    selector = SelectFromModel(lr_lasso, prefit=True, threshold=thres)\n",
    "    features_ = selector.transform(features)\n",
    "    cv_features_ = selector.transform(cv_features)\n",
    "    lr = LogisticRegression()\n",
    "    lr.fit(X=features_, y=labels)\n",
    "    score[thres] = lr.score(X=cv_features_, y=cv_labels)"
   ]
  },
  {
   "cell_type": "code",
   "execution_count": 23,
   "metadata": {
    "collapsed": false,
    "scrolled": true
   },
   "outputs": [
    {
     "data": {
      "image/png": "[encoded data removed]",
      "text/plain": [
       "<matplotlib.figure.Figure at 0x1152cfe90>"
      ]
     },
     "metadata": {},
     "output_type": "display_data"
    }
   ],
   "source": [
    "sns.pointplot(x=np.arange(-5,1), y=[score[np.exp(p)] for p in np.arange(-5,1)])\n",
    "plt.ylabel('score')\n",
    "plt.xlabel('log(threshold)')\n",
    "plt.show()"
   ]
  },
  {
   "cell_type": "markdown",
   "metadata": {},
   "source": [
    "The logistic regression model based feature selection is effective: fewer features but still similar performance. Although it's not a big performance boost."
   ]
  },
  {
   "cell_type": "code",
   "execution_count": 24,
   "metadata": {
    "collapsed": true
   },
   "outputs": [],
   "source": [
    "lr_lasso = LogisticRegression(penalty='l1').fit(X=features, y=labels)\n",
    "selector = SelectFromModel(lr_lasso, prefit=True, threshold=1e-3)\n",
    "features_lasso = selector.transform(features)\n",
    "cv_features_lasso = selector.transform(cv_features)\n",
    "test_features_lasso = selector.transform(test_features)"
   ]
  },
  {
   "cell_type": "code",
   "execution_count": 25,
   "metadata": {
    "collapsed": false
   },
   "outputs": [],
   "source": [
    "num_features_lasso = features_lasso.shape[1]"
   ]
  },
  {
   "cell_type": "code",
   "execution_count": 26,
   "metadata": {
    "collapsed": false
   },
   "outputs": [
    {
     "name": "stderr",
     "output_type": "stream",
     "text": [
      "/Users/ChingYunH/anaconda/lib/python2.7/site-packages/sklearn/utils/validation.py:395: DeprecationWarning: Passing 1d arrays as data is deprecated in 0.17 and will raise ValueError in 0.19. Reshape your data either using X.reshape(-1, 1) if your data has a single feature or X.reshape(1, -1) if it contains a single sample.\n",
      "  DeprecationWarning)\n"
     ]
    }
   ],
   "source": [
    "feature_names_lasso = np.array(feature_names)[selector.inverse_transform(\n",
    "    np.ones(num_features_lasso)).ravel().astype(bool)]"
   ]
  },
  {
   "cell_type": "code",
   "execution_count": 27,
   "metadata": {
    "collapsed": true
   },
   "outputs": [],
   "source": [
    "lr = LogisticRegression(penalty='l1').fit(X=features_lasso, y=labels)"
   ]
  },
  {
   "cell_type": "code",
   "execution_count": 28,
   "metadata": {
    "collapsed": false
   },
   "outputs": [
    {
     "data": {
      "image/png": "[encoded data removed]",
      "text/plain": [
       "<matplotlib.figure.Figure at 0x11666e610>"
      ]
     },
     "metadata": {},
     "output_type": "display_data"
    }
   ],
   "source": [
    "tmp = np.arange(50,100)\n",
    "plt.plot(tmp, [np.percentile(abs(lr.coef_), q=x) for x in tmp])\n",
    "plt.xlabel('Percentile')\n",
    "plt.ylabel('Median absolute coefficient at x-percentile')\n",
    "plt.show()"
   ]
  },
  {
   "cell_type": "code",
   "execution_count": 29,
   "metadata": {
    "collapsed": true
   },
   "outputs": [],
   "source": [
    "lr = LogisticRegression(penalty='l2').fit(X=features_lasso, y=labels)"
   ]
  },
  {
   "cell_type": "code",
   "execution_count": 30,
   "metadata": {
    "collapsed": false
   },
   "outputs": [
    {
     "data": {
      "text/plain": [
       "0.77264437689969601"
      ]
     },
     "execution_count": 30,
     "metadata": {},
     "output_type": "execute_result"
    }
   ],
   "source": [
    "lr.score(X=cv_features_lasso, y=cv_labels)"
   ]
  },
  {
   "cell_type": "code",
   "execution_count": 31,
   "metadata": {
    "collapsed": false
   },
   "outputs": [
    {
     "data": {
      "image/png": "[encoded data removed]",
      "text/plain": [
       "<matplotlib.figure.Figure at 0x11666e950>"
      ]
     },
     "metadata": {},
     "output_type": "display_data"
    }
   ],
   "source": [
    "tmp = np.arange(0,100)\n",
    "plt.plot(tmp, [np.percentile(abs(lr.coef_), q=x) for x in tmp])\n",
    "plt.xlabel('Percentile')\n",
    "plt.ylabel('Median absolute coefficient at x-percentile')\n",
    "plt.show()"
   ]
  },
  {
   "cell_type": "markdown",
   "metadata": {},
   "source": [
    "# Analyze the Weakness of Bag of Words + Logistic Regression"
   ]
  },
  {
   "cell_type": "code",
   "execution_count": 32,
   "metadata": {
    "collapsed": true
   },
   "outputs": [],
   "source": [
    "guess = lr.predict(X=features_lasso)\n",
    "proba = lr.predict_proba(X=features_lasso)"
   ]
  },
  {
   "cell_type": "code",
   "execution_count": 33,
   "metadata": {
    "collapsed": false
   },
   "outputs": [],
   "source": [
    "train_compare = pd.concat([train[['ingredients','cuisine']], pd.Series(index=train.index, \n",
    "                                      data=label_encoder.inverse_transform(guess),\n",
    "                                      name='guess')], axis=1)\n",
    "train_compare['prob_guess'] = np.max(proba, axis=1)"
   ]
  },
  {
   "cell_type": "code",
   "execution_count": 34,
   "metadata": {
    "collapsed": false,
    "scrolled": true
   },
   "outputs": [],
   "source": [
    "wrong = train_compare[train_compare['guess'] != train_compare['cuisine']]"
   ]
  },
  {
   "cell_type": "code",
   "execution_count": 35,
   "metadata": {
    "collapsed": false
   },
   "outputs": [
    {
     "data": {
      "text/plain": [
       "cuisine\n",
       "british         0.403636\n",
       "spanish         0.393519\n",
       "russian         0.351852\n",
       "irish           0.344978\n",
       "vietnamese      0.326606\n",
       "brazilian       0.302013\n",
       "filipino        0.261477\n",
       "french          0.251815\n",
       "japanese        0.234244\n",
       "greek           0.230668\n",
       "cajun_creole    0.221328\n",
       "jamaican        0.187861\n",
       "thai            0.168639\n",
       "korean          0.164729\n",
       "southern_us     0.142656\n",
       "moroccan        0.140221\n",
       "chinese         0.097077\n",
       "italian         0.074275\n",
       "indian          0.055638\n",
       "mexican         0.050943\n",
       "Name: cuisine, dtype: float64"
      ]
     },
     "execution_count": 35,
     "metadata": {},
     "output_type": "execute_result"
    }
   ],
   "source": [
    "(wrong.groupby('cuisine')['cuisine'].count() / train.groupby('cuisine')['cuisine'].count()).sort_values(ascending=False)"
   ]
  },
  {
   "cell_type": "code",
   "execution_count": 36,
   "metadata": {
    "collapsed": false
   },
   "outputs": [
    {
     "data": {
      "image/png": "[encoded data removed]",
      "text/plain": [
       "<matplotlib.figure.Figure at 0x1102aef90>"
      ]
     },
     "metadata": {},
     "output_type": "display_data"
    },
    {
     "data": {
      "image/png": "[encoded data removed]",
      "text/plain": [
       "<matplotlib.figure.Figure at 0x112580e10>"
      ]
     },
     "metadata": {},
     "output_type": "display_data"
    }
   ],
   "source": [
    "wrong.prob_guess.hist()\n",
    "plt.show()\n",
    "train_compare.prob_guess.hist()\n",
    "plt.show()"
   ]
  },
  {
   "cell_type": "code",
   "execution_count": 37,
   "metadata": {
    "collapsed": false
   },
   "outputs": [],
   "source": [
    "wrong_grouped = wrong.groupby(['cuisine', 'guess']).count()['prob_guess'].rename('count').sort_values(ascending=False)"
   ]
  },
  {
   "cell_type": "code",
   "execution_count": 38,
   "metadata": {
    "collapsed": false
   },
   "outputs": [
    {
     "data": {
      "text/plain": [
       "cuisine       guess       \n",
       "french        italian         256\n",
       "italian       french          160\n",
       "cajun_creole  southern_us     113\n",
       "greek         italian         106\n",
       "spanish       italian         101\n",
       "southern_us   italian          98\n",
       "french        southern_us      96\n",
       "italian       southern_us      86\n",
       "british       southern_us      82\n",
       "southern_us   cajun_creole     80\n",
       "Name: count, dtype: int64"
      ]
     },
     "execution_count": 38,
     "metadata": {},
     "output_type": "execute_result"
    }
   ],
   "source": [
    "wrong_grouped.head(10)"
   ]
  },
  {
   "cell_type": "markdown",
   "metadata": {},
   "source": [
    "Some similar cuisines get mixed up easily. Maybe it would help to use random forest to distinguish the similar cuisines."
   ]
  },
  {
   "cell_type": "code",
   "execution_count": 39,
   "metadata": {
    "collapsed": false
   },
   "outputs": [],
   "source": [
    "G = nx.DiGraph()\n",
    "G.add_nodes_from(np.unique(wrong.cuisine.values))"
   ]
  },
  {
   "cell_type": "code",
   "execution_count": 40,
   "metadata": {
    "collapsed": true
   },
   "outputs": [],
   "source": [
    "G.add_weighted_edges_from([(r[0][0], r[0][1], r[1]) for r in wrong_grouped[wrong_grouped > 50].iteritems()])"
   ]
  },
  {
   "cell_type": "code",
   "execution_count": 41,
   "metadata": {
    "collapsed": false
   },
   "outputs": [
    {
     "name": "stderr",
     "output_type": "stream",
     "text": [
      "/Users/ChingYunH/anaconda/lib/python2.7/site-packages/networkx/drawing/nx_pylab.py:126: MatplotlibDeprecationWarning: pyplot.hold is deprecated.\n",
      "    Future behavior will be consistent with the long-time default:\n",
      "    plot commands add elements without first clearing the\n",
      "    Axes and/or Figure.\n",
      "  b = plt.ishold()\n",
      "/Users/ChingYunH/anaconda/lib/python2.7/site-packages/networkx/drawing/nx_pylab.py:138: MatplotlibDeprecationWarning: pyplot.hold is deprecated.\n",
      "    Future behavior will be consistent with the long-time default:\n",
      "    plot commands add elements without first clearing the\n",
      "    Axes and/or Figure.\n",
      "  plt.hold(b)\n",
      "/Users/ChingYunH/anaconda/lib/python2.7/site-packages/matplotlib/__init__.py:917: UserWarning: axes.hold is deprecated. Please remove it from your matplotlibrc and/or style files.\n",
      "  warnings.warn(self.msg_depr_set % key)\n",
      "/Users/ChingYunH/anaconda/lib/python2.7/site-packages/matplotlib/rcsetup.py:152: UserWarning: axes.hold is deprecated, will be removed in 3.0\n",
      "  warnings.warn(\"axes.hold is deprecated, will be removed in 3.0\")\n"
     ]
    },
    {
     "data": {
      "image/png": "[encoded data removed]",
      "text/plain": [
       "<matplotlib.figure.Figure at 0x103dced90>"
      ]
     },
     "metadata": {},
     "output_type": "display_data"
    }
   ],
   "source": [
    "nx.draw_random(G, with_labels=True)\n",
    "plt.show()"
   ]
  },
  {
   "cell_type": "markdown",
   "metadata": {},
   "source": [
    "# Idea 2: Bag of Words + Logistic Regression + Random Forest"
   ]
  },
  {
   "cell_type": "markdown",
   "metadata": {},
   "source": [
    "Add probabilities predicted by logistic regression as features for random forest."
   ]
  },
  {
   "cell_type": "code",
   "execution_count": 42,
   "metadata": {
    "collapsed": false
   },
   "outputs": [],
   "source": [
    "features_plus = hstack((features_lasso, csr_matrix(proba)))\n",
    "features_plus = csr_matrix(features_plus)"
   ]
  },
  {
   "cell_type": "code",
   "execution_count": 43,
   "metadata": {
    "collapsed": false
   },
   "outputs": [],
   "source": [
    "cv_features_plus = hstack((cv_features_lasso, csr_matrix(lr.predict_proba(X=cv_features_lasso))))\n",
    "cv_features_plus = csr_matrix(cv_features_plus)"
   ]
  },
  {
   "cell_type": "code",
   "execution_count": 44,
   "metadata": {
    "collapsed": false
   },
   "outputs": [],
   "source": [
    "test_features_plus = hstack((test_features_lasso, csr_matrix(lr.predict_proba(X=test_features_lasso))))\n",
    "test_features_plus = csr_matrix(test_features_plus)"
   ]
  },
  {
   "cell_type": "markdown",
   "metadata": {},
   "source": [
    "## Random Forest on All Cuisine (with logistic regression probabilities as part of features)"
   ]
  },
  {
   "cell_type": "code",
   "execution_count": 45,
   "metadata": {
    "collapsed": true
   },
   "outputs": [],
   "source": [
    "forest = RandomForestClassifier(n_estimators = 1000)"
   ]
  },
  {
   "cell_type": "code",
   "execution_count": 46,
   "metadata": {
    "collapsed": false
   },
   "outputs": [
    {
     "data": {
      "text/plain": [
       "RandomForestClassifier(bootstrap=True, class_weight=None, criterion='gini',\n",
       "            max_depth=None, max_features='auto', max_leaf_nodes=None,\n",
       "            min_impurity_split=1e-07, min_samples_leaf=1,\n",
       "            min_samples_split=2, min_weight_fraction_leaf=0.0,\n",
       "            n_estimators=1000, n_jobs=1, oob_score=False,\n",
       "            random_state=None, verbose=0, warm_start=False)"
      ]
     },
     "execution_count": 46,
     "metadata": {},
     "output_type": "execute_result"
    }
   ],
   "source": [
    "forest.fit(X=features_plus, y=labels)"
   ]
  },
  {
   "cell_type": "code",
   "execution_count": 47,
   "metadata": {
    "collapsed": false
   },
   "outputs": [
    {
     "data": {
      "text/plain": [
       "0.78844984802431606"
      ]
     },
     "execution_count": 47,
     "metadata": {},
     "output_type": "execute_result"
    }
   ],
   "source": [
    "forest.score(X=cv_features_plus, y=cv_labels)"
   ]
  },
  {
   "cell_type": "code",
   "execution_count": 48,
   "metadata": {
    "collapsed": false
   },
   "outputs": [],
   "source": [
    "testdata['cuisine'] = label_encoder.inverse_transform(forest.predict(X=test_features_plus))\n",
    "testdata[['id','cuisine']].set_index('id').to_csv('submission_forest.csv')"
   ]
  },
  {
   "cell_type": "markdown",
   "metadata": {},
   "source": [
    "# Idea 3: Random Forest for Confused Cuisine Pairs"
   ]
  },
  {
   "cell_type": "markdown",
   "metadata": {},
   "source": [
    "## French vs Italian"
   ]
  },
  {
   "cell_type": "code",
   "execution_count": 49,
   "metadata": {
    "collapsed": false
   },
   "outputs": [],
   "source": [
    "french_italian_ind = (train['cuisine'] == 'french') | (train['cuisine'] == 'italian')\n",
    "french_italian = train[french_italian_ind]"
   ]
  },
  {
   "cell_type": "code",
   "execution_count": 50,
   "metadata": {
    "collapsed": false
   },
   "outputs": [],
   "source": [
    "french_italian_ind_cv = (cv['cuisine'] == 'french') | (cv['cuisine'] == 'italian')"
   ]
  },
  {
   "cell_type": "code",
   "execution_count": 51,
   "metadata": {
    "collapsed": true
   },
   "outputs": [],
   "source": [
    "french_italian_forest = RandomForestClassifier(n_estimators = 100)"
   ]
  },
  {
   "cell_type": "code",
   "execution_count": 52,
   "metadata": {
    "collapsed": false
   },
   "outputs": [
    {
     "data": {
      "text/plain": [
       "RandomForestClassifier(bootstrap=True, class_weight=None, criterion='gini',\n",
       "            max_depth=None, max_features='auto', max_leaf_nodes=None,\n",
       "            min_impurity_split=1e-07, min_samples_leaf=1,\n",
       "            min_samples_split=2, min_weight_fraction_leaf=0.0,\n",
       "            n_estimators=100, n_jobs=1, oob_score=False, random_state=None,\n",
       "            verbose=0, warm_start=False)"
      ]
     },
     "execution_count": 52,
     "metadata": {},
     "output_type": "execute_result"
    }
   ],
   "source": [
    "french_italian_forest.fit(X=features_plus[french_italian_ind.values], y=labels[french_italian_ind.values])"
   ]
  },
  {
   "cell_type": "code",
   "execution_count": 53,
   "metadata": {
    "collapsed": false
   },
   "outputs": [
    {
     "data": {
      "text/plain": [
       "0.89942196531791907"
      ]
     },
     "execution_count": 53,
     "metadata": {},
     "output_type": "execute_result"
    }
   ],
   "source": [
    "cv_french_italian_ind = (cv['cuisine'] == 'french') | (cv['cuisine'] == 'italian')\n",
    "french_italian_forest.score(X=cv_features_plus[cv_french_italian_ind.values], \n",
    "             y=cv_labels[cv_french_italian_ind.values])"
   ]
  },
  {
   "cell_type": "code",
   "execution_count": 54,
   "metadata": {
    "collapsed": false
   },
   "outputs": [
    {
     "data": {
      "text/plain": [
       "0.82716763005780347"
      ]
     },
     "execution_count": 54,
     "metadata": {},
     "output_type": "execute_result"
    }
   ],
   "source": [
    "lr.score(X=cv_features_lasso[cv_french_italian_ind.values], \n",
    "             y=cv_labels[cv_french_italian_ind.values])"
   ]
  },
  {
   "cell_type": "markdown",
   "metadata": {},
   "source": [
    "Random forest is better than logistic regression at telling two cuisines apart."
   ]
  },
  {
   "cell_type": "markdown",
   "metadata": {},
   "source": [
    "## Modify Logistic Regression Predictions with French vs Italian Classifer"
   ]
  },
  {
   "cell_type": "code",
   "execution_count": 56,
   "metadata": {
    "collapsed": true
   },
   "outputs": [],
   "source": [
    "cv_prediction = lr.predict(X=cv_features_lasso)"
   ]
  },
  {
   "cell_type": "code",
   "execution_count": 57,
   "metadata": {
    "collapsed": false
   },
   "outputs": [],
   "source": [
    "predicted_french_italian = (cv_prediction == label_encoder.transform(['french']).ravel()) | (\n",
    "    cv_prediction == label_encoder.transform(['italian']).ravel()) "
   ]
  },
  {
   "cell_type": "code",
   "execution_count": 58,
   "metadata": {
    "collapsed": false
   },
   "outputs": [],
   "source": [
    "french_or_italian = french_italian_forest.predict(X=cv_features_plus[predicted_french_italian])"
   ]
  },
  {
   "cell_type": "code",
   "execution_count": 59,
   "metadata": {
    "collapsed": true
   },
   "outputs": [],
   "source": [
    "cv_combined_prediction = cv_prediction.copy()\n",
    "np.put(cv_combined_prediction, np.where(predicted_french_italian)[0], french_or_italian)"
   ]
  },
  {
   "cell_type": "code",
   "execution_count": 60,
   "metadata": {
    "collapsed": false
   },
   "outputs": [
    {
     "data": {
      "text/plain": [
       "0.7359550561797753"
      ]
     },
     "execution_count": 60,
     "metadata": {},
     "output_type": "execute_result"
    }
   ],
   "source": [
    "french_italian_forest.score(X=cv_features_plus[predicted_french_italian], \n",
    "             y=cv_labels[predicted_french_italian])"
   ]
  },
  {
   "cell_type": "code",
   "execution_count": 61,
   "metadata": {
    "collapsed": false
   },
   "outputs": [
    {
     "data": {
      "text/plain": [
       "0.73084780388151172"
      ]
     },
     "execution_count": 61,
     "metadata": {},
     "output_type": "execute_result"
    }
   ],
   "source": [
    "lr.score(X=cv_features_lasso[predicted_french_italian], \n",
    "             y=cv_labels[predicted_french_italian])"
   ]
  },
  {
   "cell_type": "code",
   "execution_count": 62,
   "metadata": {
    "collapsed": false
   },
   "outputs": [
    {
     "data": {
      "text/plain": [
       "0.7741641337386018"
      ]
     },
     "execution_count": 62,
     "metadata": {},
     "output_type": "execute_result"
    }
   ],
   "source": [
    "1.0 * np.count_nonzero(cv_combined_prediction == cv_labels) / len(cv_labels)"
   ]
  },
  {
   "cell_type": "code",
   "execution_count": 63,
   "metadata": {
    "collapsed": false
   },
   "outputs": [
    {
     "data": {
      "text/plain": [
       "0.772644376899696"
      ]
     },
     "execution_count": 63,
     "metadata": {},
     "output_type": "execute_result"
    }
   ],
   "source": [
    "1.0 * np.count_nonzero(cv_prediction == cv_labels) / len(cv_labels)"
   ]
  },
  {
   "cell_type": "markdown",
   "metadata": {},
   "source": [
    "Using French vs Italian random forest on top of logistic regression gives slightly better performance."
   ]
  },
  {
   "cell_type": "markdown",
   "metadata": {},
   "source": [
    "## Random Forest for each Easily Confused Cuisine Pair"
   ]
  },
  {
   "cell_type": "code",
   "execution_count": 64,
   "metadata": {
    "collapsed": false
   },
   "outputs": [],
   "source": [
    "confused_pairs = np.unique(np.array([set(x[0]) for x in wrong_grouped.head(10).iteritems()]))\n",
    "confused_pairs = [tuple(x) for x in confused_pairs]"
   ]
  },
  {
   "cell_type": "code",
   "execution_count": 65,
   "metadata": {
    "collapsed": false
   },
   "outputs": [],
   "source": [
    "forest_pairs = []\n",
    "for (a,b) in confused_pairs:\n",
    "    f = RandomForestClassifier(n_estimators=100)\n",
    "    ind = ((train['cuisine'] == a) | (train['cuisine'] == b)).values\n",
    "    f.fit(X=features_lasso[ind], y=labels[ind])\n",
    "    forest_pairs.append(f)"
   ]
  },
  {
   "cell_type": "code",
   "execution_count": 66,
   "metadata": {
    "collapsed": false
   },
   "outputs": [],
   "source": [
    "forest_pair_feature = np.zeros((train.shape[0], len(forest_pairs)))\n",
    "for i,f in enumerate(forest_pairs):\n",
    "    forest_pair_feature[:,i] = f.predict(X=features_lasso)\n",
    "features_plusplus = csr_matrix(hstack((features_plus, forest_pair_feature)))"
   ]
  },
  {
   "cell_type": "code",
   "execution_count": 67,
   "metadata": {
    "collapsed": false
   },
   "outputs": [],
   "source": [
    "cv_forest_pair_feature = np.zeros((cv.shape[0], len(forest_pairs)))\n",
    "for i,f in enumerate(forest_pairs):\n",
    "    cv_forest_pair_feature[:,i] = f.predict(X=cv_features_lasso)\n",
    "cv_features_plusplus = csr_matrix(hstack((cv_features_plus, cv_forest_pair_feature)))"
   ]
  },
  {
   "cell_type": "code",
   "execution_count": 68,
   "metadata": {
    "collapsed": false
   },
   "outputs": [
    {
     "data": {
      "text/plain": [
       "0.77872340425531916"
      ]
     },
     "execution_count": 68,
     "metadata": {},
     "output_type": "execute_result"
    }
   ],
   "source": [
    "topforest = RandomForestClassifier(n_estimators=100)\n",
    "topforest.fit(X=features_plusplus, y=labels)\n",
    "topforest.score(X=cv_features_plusplus, y=cv_labels)"
   ]
  },
  {
   "cell_type": "code",
   "execution_count": 70,
   "metadata": {
    "collapsed": false
   },
   "outputs": [],
   "source": [
    "test_forest_pair_feature = np.zeros((testdata.shape[0], len(forest_pairs)))\n",
    "for i,f in enumerate(forest_pairs):\n",
    "    test_forest_pair_feature[:,i] = f.predict(X=test_features_lasso)\n",
    "test_features_plusplus = csr_matrix(hstack((test_features_plus, test_forest_pair_feature)))"
   ]
  },
  {
   "cell_type": "code",
   "execution_count": 71,
   "metadata": {
    "collapsed": false
   },
   "outputs": [],
   "source": [
    "testdata['cuisine'] = label_encoder.inverse_transform(topforest.predict(X=test_features_plusplus))\n",
    "testdata[['id','cuisine']].set_index('id').to_csv('submission_forest.csv')"
   ]
  },
  {
   "cell_type": "markdown",
   "metadata": {},
   "source": [
    "This provides slight improvement on top of logistic regression."
   ]
  },
  {
   "cell_type": "code",
   "execution_count": null,
   "metadata": {
    "collapsed": true
   },
   "outputs": [],
   "source": []
  }
 ],
 "metadata": {
  "kernelspec": {
   "display_name": "Python 2",
   "language": "python",
   "name": "python2"
  },
  "language_info": {
   "codemirror_mode": {
    "name": "ipython",
    "version": 2
   },
   "file_extension": ".py",
   "mimetype": "text/x-python",
   "name": "python",
   "nbconvert_exporter": "python",
   "pygments_lexer": "ipython2",
   "version": "2.7.13"
  }
 },
 "nbformat": 4,
 "nbformat_minor": 2
}
